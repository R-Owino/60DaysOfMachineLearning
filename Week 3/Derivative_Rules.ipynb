{
  "nbformat": 4,
  "nbformat_minor": 0,
  "metadata": {
    "colab": {
      "provenance": []
    },
    "kernelspec": {
      "name": "python3",
      "display_name": "Python 3"
    },
    "language_info": {
      "name": "python"
    }
  },
  "cells": [
    {
      "cell_type": "markdown",
      "source": [
        "## Derivative Rules\n",
        "\n",
        "Recall: This is the definition of a derivative ->\n",
        "\n",
        "Given any number $x$ for which the limit exists, we assign to $x$ the number\n",
        "$f'(x)$.\n",
        "\n",
        "\\begin{equation*}\n",
        "f'(x)=\\lim_{h\\to 0}\\frac{f(x+h)-f(x)}{h}\n",
        "\\end{equation*}\n",
        "\n",
        "Derivative rules are shortcuts that can be used to compute the derivative of a function.\n",
        "\n",
        "Using derivative rules, we don't have to use the limit definition directly to find the derivative of a function by using some basic derivative rules.\n",
        "\n",
        "Let's see some examples:"
      ],
      "metadata": {
        "id": "NOT2qNY7soWK"
      }
    },
    {
      "cell_type": "markdown",
      "source": [
        "### 1. Derivative of a contant function\n",
        "\n",
        "If $c$ is our constant, then\n",
        "$$\n",
        "\\frac{d}{dx}c = 0\n",
        "$$\n",
        "\n",
        "Geometrically, the graph of a constant function is horizontal straight line\n",
        "\n",
        "![image.png](data:image/png;base64,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)\n",
        "\n",
        "A tangent line to a horizontal straight line at any point on this line coincides with the line itself. But a horizontal line has slope zero, and therefore the slope of the tangent line must be zero as well."
      ],
      "metadata": {
        "id": "QneaXw1syh0_"
      }
    },
    {
      "cell_type": "markdown",
      "source": [
        "#### Example\n",
        "\n",
        "The derivative of $f(x)=17$ is $f'(x)=0$ since the derivative of a constant is 0.\n",
        "\n",
        "![image.png](data:image/png;base64,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)"
      ],
      "metadata": {
        "id": "1flvKIZD1L1t"
      }
    },
    {
      "cell_type": "markdown",
      "source": [
        "### 2. Power rule\n",
        "\n",
        "If $n$ is a positive integer, then\n",
        "$$\n",
        "\\frac{d}{dx}x^n = nx^{n-1}\n",
        "$$"
      ],
      "metadata": {
        "id": "Cx7YWMze2xpX"
      }
    },
    {
      "cell_type": "markdown",
      "source": [
        "#### Example\n",
        "\n",
        "The derivative of $g(x) = x^4$ is:\n",
        "$$\n",
        "g'(x) = 4x^{4-1} = 4x^3\n",
        "$$\n",
        "\n",
        "The derivative of $f(x) = x^3$ is:\n",
        "$$\n",
        "f'(x) = 3x^{3-1} = 3x^2\n",
        "$$"
      ],
      "metadata": {
        "id": "V4lFfgtP376B"
      }
    },
    {
      "cell_type": "markdown",
      "source": [
        "### 3. Constant Multiple Rule\n",
        "\n",
        "If $c$ is a constant of $f$ and $f$ is a differentiable function, then:\n",
        "\n",
        "$$\n",
        "\\frac{d}{dx}[cf(x)]=c\\frac{d}{dx}f(x)\n",
        "$$"
      ],
      "metadata": {
        "id": "iw50WGfx5ME3"
      }
    },
    {
      "cell_type": "markdown",
      "source": [
        "#### Example\n",
        "\n",
        "The derivative of $f(x) = 5x^3$ is:\n",
        "\n",
        "Using the Constant Multiple Rule, we get:\n",
        "\n",
        "$$\n",
        "f'(x) = \\frac{d}{dx}5x^3 = 5\\frac{d}{dx}x^3\n",
        "$$\n",
        "\n",
        "Then, using the Power Rule, we have:\n",
        "\n",
        "$$\n",
        "= \\frac{d}{dx}x^3 = 3x^2\n",
        "$$\n",
        "\n",
        "Putting them together, we have:\n",
        "$$\n",
        "\\frac{d}{dx}5x^3 = 5(3x^2) = 15x^2\n",
        "$$"
      ],
      "metadata": {
        "id": "4Q6ObfwZ7dBw"
      }
    },
    {
      "cell_type": "markdown",
      "source": [
        "### 4. Sum and Difference Rules\n",
        "\n",
        "If $f$ and $g$ are both differentiable functions, then:\n",
        "\n",
        "$$\n",
        "\\frac{d}{dx}\\left(f(x)+ g(x)\\right)=\\frac{d}{dx}f(x) + \\frac{d}{dx}g(x)\n",
        "$$\n",
        "\n",
        "and\n",
        "\n",
        "$$\n",
        "\\frac{d}{dx}\\left(f(x)- g(x)\\right)=\\frac{d}{dx}f(x) - \\frac{d}{dx}g(x)\n",
        "$$"
      ],
      "metadata": {
        "id": "WnN6ni5o9xTo"
      }
    },
    {
      "cell_type": "markdown",
      "source": [
        "#### Examples\n",
        "\n",
        "Example 1:\n",
        "\n",
        "The derivative of $f(x) = 4x^{5} + 3x^{4} - 8x^{2} + x + 3$ is:\n",
        "\n",
        "$$\n",
        "f'(x) = \\frac{d}{dx}(4x^{5} + 3x^{4} - 8x^{2} + x + 3)\n",
        "$$\n",
        "\n",
        "Find the derivative of each term:\n",
        "$$\n",
        "= \\frac{d}{dx}(4x^{5}) + \\frac{d}{dx}(3x^{4}) - \\frac{d}{dx}(8x^{2}) + \\frac{d}{dx}(x) + \\frac{d}{dx}(3)\n",
        "$$\n",
        "\n",
        "Using Constant Multiple Rule and Power Rule:\n",
        "$$\n",
        "= 4\\frac{d}{dx}(x^5) + 3\\frac{d}{dx}(x^4) - 8\\frac{d}{dx}(x^2) + \\frac{d}{dx}(x) + \\frac{d}{dx}(3)\n",
        "$$\n",
        "\n",
        "$$\n",
        "= 20x^4 + 12x^3 - 16x + 1\n",
        "$$"
      ],
      "metadata": {
        "id": "QgmTONKM-9Ag"
      }
    },
    {
      "cell_type": "markdown",
      "source": [
        "Example 2:\n",
        "\n",
        "The second derivative of $f(x)=5x^3+3x^2$ is:\n",
        "\n",
        "*Note: we have to differentiate this twice*\n",
        "\n",
        "Still using Power Rule and Constant Multiple Rule:\n",
        "\n",
        "First derivative:\n",
        "$$\n",
        "f'(x) = \\frac{d}{dx}(5x^3) + \\frac{d}{dx}(3x^2)\n",
        "$$\n",
        "\n",
        "$$\n",
        "= 5\\frac{d}{dx}(x^3) + 3\\frac{d}{dx}(x^2)\n",
        "$$\n",
        "\n",
        "$$\n",
        "= 15x^2 + 6x\n",
        "$$\n",
        "\n",
        "Second derivative:\n",
        "$$\n",
        "f''(x) = \\frac{d}{dx}(15x^2) + \\frac{d}{dx}(6x)\n",
        "$$\n",
        "\n",
        "$$\n",
        "= 2(15x^{2-1}) + 6\n",
        "$$\n",
        "\n",
        "Final Solution:\n",
        "$$\n",
        "= 30x + 6\n",
        "$$\n",
        "\n"
      ],
      "metadata": {
        "id": "RDBSn7KID9Rl"
      }
    },
    {
      "cell_type": "markdown",
      "source": [
        "### 5. Product Rule\n",
        "\n",
        "If $f$ and $g$ are both differentiable functions, then:\n",
        "\n",
        "$$\n",
        "\\frac{d}{dx}[f(x)\\cdot g(x)]=f(x)\\frac{d}{dx}[g(x)]+g(x)\\frac{d}{dx}[f(x)]\n",
        "$$\n",
        "\n",
        "*Note*: The derivative of the product of the 2 functions $f(x)$ and $g(x)$ is **not** given by the product of the derivatives of the 2 funtions\n",
        "\n",
        "$$\n",
        "\\frac{d}{dx}\\left[f(x)g(x)\\right] \\color{red}\\neq  \\frac{d}{dx}f(x)\\frac{d}{dx}g(x)\n",
        "$$"
      ],
      "metadata": {
        "id": "W9UiWgaLK4dV"
      }
    },
    {
      "cell_type": "markdown",
      "source": [
        "#### Example\n",
        "\n",
        "Find the derivative of $h(x)=(3x-1)(2x+3)$\n",
        "\n",
        "Separating the equations:\n",
        "$$\n",
        "f(x) = (3x-1)\n",
        "$$\n",
        "\n",
        "$$\n",
        "g(x) = (2x+3)\n",
        "$$\n",
        "\n",
        "Differentiating each:\n",
        "$$\n",
        "f'(x) = 3\n",
        "$$\n",
        "\n",
        "$$\n",
        "g'(x) = 2\n",
        "$$\n",
        "\n",
        "$h'(x)$ now becomes:\n",
        "$$\n",
        "h'(x) = 2⋅(3x-1) + 3⋅(2x+3)\n",
        "$$\n",
        "\n",
        "$$\n",
        "h'(x) = 12x + 7\n",
        "$$"
      ],
      "metadata": {
        "id": "PAbvbfAZM226"
      }
    },
    {
      "cell_type": "markdown",
      "source": [
        "### 6. Quotient Rule\n",
        "\n",
        "If $f$ and $g$ are both differentiable functions, then:\n",
        "$$\n",
        "\\frac{d}{dx}\\left[\\frac{f(x)}{g(x)}\\right] =\\frac{g(x)\\frac{d}{dx}[f(x)]-f(x)\\frac{d}{dx}[g(x)]}{[g(x)]^2}\n",
        "$$"
      ],
      "metadata": {
        "id": "XZ97eFIRSJyZ"
      }
    },
    {
      "cell_type": "markdown",
      "source": [
        "#### Example\n",
        "\n",
        "Find the derivative of $h(x) = \\frac{3x-1}{2x+3}$\n",
        "\n",
        "Separating the equations:\n",
        "$$\n",
        "f(x) = (3x-1)\n",
        "$$\n",
        "\n",
        "$$\n",
        "g(x) = (2x+3)\n",
        "$$\n",
        "\n",
        "Then using quotient rule:\n",
        "$$\n",
        "h'(x)=\\frac{[\\frac{d}{dx}(3x-1)\\cdot (2x+3)]-[(3x-1)\\cdot\\frac{d}{dx}(2x+3)]}{(2x+3)^2}\n",
        "$$\n",
        "\n",
        "$$\n",
        "=\\frac{3(2x+3)-(3x-1)(2)}{(2x+3)^2}\n",
        "$$\n",
        "\n",
        "$$\n",
        "= \\frac{11}{(2x+3)^2}\n",
        "$$"
      ],
      "metadata": {
        "id": "bsZsIDa-TD9X"
      }
    },
    {
      "cell_type": "markdown",
      "source": [
        "### 7. Chain Rule\n",
        "\n",
        "Also called the outside-inside rule, it is a way to find the derivative of a complicated equation that is a smaller function inside a larger outer function.\n",
        "\n",
        "Power rule could still be used to find the derivative, but chain rule saves us time doing this.\n",
        "\n",
        "Think of it this way:\n",
        "$$\n",
        "\\frac{d}{dx} = (derivative\\; of\\; outside\\; func,\\; leaving\\; the\\; inside\\; as\\; is\\;)\\; ⋅\\; (derivative\\; of\\; inside\\; func\\;)\n",
        "$$\n",
        "\n",
        "So, if a function $f(x)$ is differentiable:\n",
        "$$\n",
        "y = f(x)^n\n",
        "$$\n",
        "\n",
        "Leaving the inside function as is:\n",
        "$$\n",
        "let\\; u = f(x)\n",
        "$$\n",
        "\n",
        "Then\n",
        "$$\n",
        "y = u^n\n",
        "$$\n",
        "\n",
        "Therefore,\n",
        "$$\n",
        "\\frac{dy}{dx} = \\frac{dy}{du}⋅\\frac{du}{dx}\n",
        "$$"
      ],
      "metadata": {
        "id": "x7UtMdmmUs61"
      }
    },
    {
      "cell_type": "markdown",
      "source": [
        "#### Examples\n",
        "\n",
        "Example 1:\n",
        "\n",
        "Find the derivative of $y = (3x + 1)^7$\n",
        "\n",
        "let $u = 3x + 1$\n",
        "\n",
        "so, $y = u^7$\n",
        "\n",
        "Using the Power Rule for the outside function:\n",
        "$$\n",
        "\\frac{dy}{du} = 7u^6\n",
        "$$\n",
        "\n",
        "And Constant Multiple Rule for the inside function:\n",
        "$$\n",
        "\\frac{du}{dx} = \\frac{d}{dx}3x + 1 = 3\n",
        "$$\n",
        "\n",
        "Putting them together using the chain rule:\n",
        "$$\n",
        "\\frac{dy}{dx} = \\frac{dy}{du}⋅\\frac{du}{dx}\n",
        "$$\n",
        "\n",
        "$$\n",
        "\\frac{dy}{dx} = 7u^6 ⋅ 3\n",
        "$$\n",
        "\n",
        "$$\n",
        "\\frac{dy}{dx} = 7(3x + 1)^6 ⋅ 3\n",
        "$$\n",
        "\n",
        "$$\n",
        "= 21(3x + 1)^6\n",
        "$$\n"
      ],
      "metadata": {
        "id": "0m5mMn3NjPFB"
      }
    },
    {
      "cell_type": "markdown",
      "source": [
        "Example 2:\n",
        "\n",
        "Find the derivative of $y = (3x^3 - 5x^2 + 3x -15)^6$\n",
        "\n",
        "let $u = 3x^3 - 5x^2 + 3x -15$\n",
        "\n",
        "so, $y = u^6$\n",
        "\n",
        "Power Rule for the outside function:\n",
        "$$\n",
        "\\frac{dy}{du} = 6u^5\n",
        "$$\n",
        "\n",
        "Constant Multiple Rule for the inside function:\n",
        "$$\n",
        "\\frac{du}{dx} = \\frac{d}{dx}3x^3 - 5x^2 + 3x -15\n",
        "$$\n",
        "\n",
        "$$\n",
        "= 9x^2 - 10x + 3\n",
        "$$\n",
        "\n",
        "Putting them together using the chain rule:\n",
        "$$\n",
        "\\frac{dy}{dx} = \\frac{dy}{du}⋅\\frac{du}{dx}\n",
        "$$\n",
        "\n",
        "$$\n",
        "\\frac{dy}{dx} = (6u^5) ⋅ (9x^2 - 10x + 3)\n",
        "$$\n",
        "\n",
        "$$\n",
        "= 6(3x^3 - 5x^2 + 3x -15)^5⋅(9x^2 - 10x + 3)\n",
        "$$"
      ],
      "metadata": {
        "id": "IF-xFbMQn0LS"
      }
    },
    {
      "cell_type": "markdown",
      "source": [
        "##### Derivatives Rules Cheat Sheet\n",
        "\n",
        "Refer [here](https://www.math.ucdavis.edu/~kouba/Math17BHWDIRECTORY/Derivatives.pdf) to get the cheat sheet."
      ],
      "metadata": {
        "id": "DHPEBrgLjJ9w"
      }
    }
  ]
}