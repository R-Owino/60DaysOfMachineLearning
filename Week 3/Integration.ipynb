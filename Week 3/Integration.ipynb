{
  "nbformat": 4,
  "nbformat_minor": 0,
  "metadata": {
    "colab": {
      "provenance": []
    },
    "kernelspec": {
      "name": "python3",
      "display_name": "Python 3"
    },
    "language_info": {
      "name": "python"
    }
  },
  "cells": [
    {
      "cell_type": "markdown",
      "source": [
        "## Integral Calculus"
      ],
      "metadata": {
        "id": "rBdiD8ZA3S2h"
      }
    },
    {
      "cell_type": "markdown",
      "source": [
        "- While introducing Calculus, we defined integral calculus as:\n",
        "\n",
        "> Finding out how much there is of small pieces by joining them\n",
        "\n",
        "- We can further define this by saying:\n",
        "\n",
        "\n",
        "> Integration is a way of adding slices to find a whole\n",
        "\n",
        "\n",
        "\n"
      ],
      "metadata": {
        "id": "6lSaGdVz3j3W"
      }
    },
    {
      "cell_type": "markdown",
      "source": [
        "Consider the following shapes:\n",
        "\n",
        "<table>\n",
        "  <tr>\n",
        "    <td><img src=\"https://as1.ftcdn.net/v2/jpg/02/73/29/42/1000_F_273294277_OMgwK4GGgZhOXRuAWbHl8LxEFc6rRDeg.jpg\" alt=\"Image 1\" style=\"width:300px;\"></td>\n",
        "    <td><img src=\"https://www.lathampool.com/wp-content/uploads/importedmedia/axiom14-classic-sapphire-blue-fiberglass-aerial-loungers.jpg\" alt=\"Image 2\" style=\"width:600px;\"></td>\n",
        "  </tr>\n",
        "</table>"
      ],
      "metadata": {
        "id": "goiqa9K66YBR"
      }
    },
    {
      "cell_type": "markdown",
      "source": [
        "The task is to calculate the area of both of the shapes.\n",
        "\n",
        "To calculate the shape of the first pool is quite easy, because the shape is regular. The second pool, however, is a bit challenging to calculate the area because it's shape is uneven. Integration can help us get the area of the irregularly-shaped pool."
      ],
      "metadata": {
        "id": "YNw4xrxE2rYy"
      }
    },
    {
      "cell_type": "markdown",
      "source": [
        "Integration is used to find the area, volume and central points.\n",
        "\n",
        "We'll start with finding the area under a curve of a function $f(x)$ and above the x-axis\n",
        "\n",
        "<img src=\"https://www.mathsisfun.com/calculus/images/integral-area.svg\" alt=\"Image 1\" style=\"width:400px;\">\n",
        "\n",
        "What is the area under the curve?"
      ],
      "metadata": {
        "id": "3UiKj1fiBuH0"
      }
    },
    {
      "cell_type": "markdown",
      "source": [
        "### Small pieces\n",
        "\n",
        "Step 1: Divide the curve into rectangles of width $Δx$\n",
        "\n",
        "<img src=\"https://www.mathsisfun.com/calculus/images/integral-area3.svg\" alt=\"Image 1\" style=\"width:400px;\">\n",
        "\n",
        "Using the rectangles, we could calculate the area of each then add up the slices. But this won't give us the accurate area under the curve.\n",
        "\n",
        "Step 2: What if we use smaller $Δx$...\n",
        "\n",
        "<img src=\"https://www.mathsisfun.com/calculus/images/integral-area1.svg\" alt=\"Image 1\" style=\"width:400px;\">\n",
        "\n",
        "... and get a way better solution\n",
        "\n",
        "As the width $Δx$ approaches 0, we get a more accurate solution, something closer to the answer\n",
        "\n",
        "<img src=\"https://www.mathsisfun.com/calculus/images/integral-area0.svg\" alt=\"Image 1\" style=\"width:400px;\">\n",
        "\n",
        "Here, $dx$ is used instead of $Δx$ to signify that the width of the slices are approaching 0"
      ],
      "metadata": {
        "id": "xReQZpQUH8Tc"
      }
    },
    {
      "cell_type": "markdown",
      "source": [
        "### Do we have to add up the slices all the time?\n",
        "\n",
        "Short answer, no. This is because finding an integral is the reverse of finding a derivative\n",
        "\n",
        "Example:\n",
        "An integral of $2x$ is $x^2$\n",
        "\n",
        "<img src=\"https://www.mathsisfun.com/calculus/images/integral-vs-derivative.svg\" alt=\"Image 1\" style=\"width:400px;\">\n",
        "\n",
        "because the derivative of $x^2$ is $2x$\n",
        "\n",
        "We can confirm this by calculating the area under the function:\n",
        "\n",
        "<img src=\"https://www.mathsisfun.com/calculus/images/integral-2x-graph.svg\" alt=\"Image 1\" style=\"width:400px;\">\n",
        "\n",
        "Area of this triangle is:\n",
        "$$\n",
        "A = \\frac{1}{2}bh\n",
        "$$\n",
        "\n",
        "$$\n",
        "A = \\frac{1}{2}{x}⋅{2x}\n",
        "$$\n",
        "\n",
        "$$\n",
        "A = x^2\n",
        "$$"
      ],
      "metadata": {
        "id": "fi5VgKcNS_4w"
      }
    },
    {
      "cell_type": "markdown",
      "source": [
        "### The integral notation\n",
        "\n",
        "$$\n",
        "\\int f(x) \\, dx\n",
        "$$\n",
        "\n",
        "The integral symbol is followed by the function we want to find the integral of, then $dx$ to mean the slices go in the $x$ direction.\n",
        "\n",
        "The answer would be written as:\n",
        "\n",
        "$$\n",
        "\\int f(2x) \\, dx = x^2 + c\n",
        "$$"
      ],
      "metadata": {
        "id": "OJtRSrkhXxv3"
      }
    },
    {
      "cell_type": "markdown",
      "source": [
        "### The C at the end\n",
        "\n",
        "When we integrate $2x$, we wrote the answer as $x^2 + c$.\n",
        "\n",
        "Why do we add the c at the end?\n",
        "\n",
        "Deriving a couple more functions:\n",
        "\n",
        "$$\n",
        "\\text {Example 1:} \\; x^2 = 2x\n",
        "$$\n",
        "\n",
        "$$\n",
        "\\text {Example 2:} \\; x^2 + 6 = 2x\n",
        "$$\n",
        "\n",
        "$$\n",
        "\\text {Example 3:} \\; x^2 + 54 = 2x\n",
        "$$\n",
        "\n",
        "Because the derivative of a constant is 0, the derivatives of all of the examples above is $2x$\n",
        "\n",
        "When we integrate (get the reverse of the function), we only the $2x$, but there could be a constant of any value, so the c comes in at the end to wrap up the idea."
      ],
      "metadata": {
        "id": "RycRJw1-mnHM"
      }
    },
    {
      "cell_type": "markdown",
      "source": [
        "### Definite and indefinite integrals\n",
        "\n",
        "Before doing some examples, we need to understand these two fundamental concepts in integral calculus.\n",
        "\n",
        "1. Definite integrals\n",
        "\n",
        "A definite integral ha the limits of the integration and returns the area between specific boundaries under a curve. It is denoted this way:\n",
        "$$\n",
        "\\int_{a}^{b} f(x) \\, dx\n",
        "$$\n",
        "\n",
        "where $a$ and $b$ are the limits of integration. The answer which we get is a specific area.\n",
        "\n",
        "\n",
        "<img src=\"https://useruploads.socratic.org/Ka2KyumoSOWFfEgvqpYA_dint.jpg\" alt=\"Image 1\" style=\"width:400px;\">\n",
        "\n",
        "\n",
        "To calculate a definite integral, we use the fundamental theorem of calculus:\n",
        "\n",
        "$$\n",
        "\\int_{a}^{b} f(x) \\, dx = F(b) - F(a)\n",
        "$$\n",
        "\n",
        "where $F(x)$ is the antiderivative of $f(x)$\n",
        "\n",
        "\n",
        "2. Indefinite Integrals\n",
        "\n",
        "An indefinite integral returns a function of the independent variable(s) plus an arbitrary constant and has no limits specified. It is denoted as follows:\n",
        "\n",
        "$$\n",
        "\\int f(x) \\, dx\n",
        "$$\n",
        "\n",
        "\n"
      ],
      "metadata": {
        "id": "aMcs5jZRosa_"
      }
    }
  ]
}