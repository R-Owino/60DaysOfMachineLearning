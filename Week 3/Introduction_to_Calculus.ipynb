{
  "nbformat": 4,
  "nbformat_minor": 0,
  "metadata": {
    "colab": {
      "provenance": []
    },
    "kernelspec": {
      "name": "python3",
      "display_name": "Python 3"
    },
    "language_info": {
      "name": "python"
    }
  },
  "cells": [
    {
      "cell_type": "markdown",
      "source": [
        "## Calculus\n",
        "\n",
        "- Calculus is a Latin word that means \"small pebbles\" as used on an abacus. This is because it's akin to breaking things down into smaller bits and understanding the bits one at a time.\n",
        "- It is all about ***changes***."
      ],
      "metadata": {
        "id": "elNBkTKn5wv6"
      }
    },
    {
      "cell_type": "markdown",
      "source": [
        "### Types of Calculus\n",
        "\n",
        "1. Differential Calculus\n",
        "    * Cuts something into small pieces and finds out how it changes.\n",
        "\n",
        "2. Integral Calculus\n",
        "    * Finds out how much there is of the small pieces by joining them."
      ],
      "metadata": {
        "id": "4LHk6zGO6vk4"
      }
    },
    {
      "cell_type": "markdown",
      "source": [
        "## \"How fast\" Problem"
      ],
      "metadata": {
        "id": "gT7yx8TJ9Yf-"
      }
    },
    {
      "cell_type": "markdown",
      "source": [
        "### Problem 1: Travelling\n",
        "\n",
        "* Kepha and Ish are travelling, Kepha the driver, Ish the nagging passenger. But there's a problem - the speedometer is not working (Kepha 👀)\n",
        "\n",
        "* Curiously, Ish asks \"how fast are we going now?\", and our bright, young man quickly does the math:\n",
        "\n",
        "    ```\n",
        "    For, the past minute, we've covered 1.5km.\n",
        "    That means we're going at:\n",
        "        1.5km per minute * 60mins in an hour = 90km/h\n",
        "    ```\n",
        "\n",
        "**The Calculation: **\n",
        "\n",
        "Given:\n",
        "$$\n",
        "\\begin{align*}\n",
        "\\text{Distance} &= 1.5 \\text{ kilometers} \\\\\n",
        "\\text{Time} &= 1 \\text{ minute}\n",
        "\\end{align*}\n",
        "$$\n",
        "\n",
        "First, convert the time to hours:\n",
        "$$\n",
        "1 \\text{ minute} = \\frac{1}{60} \\text{ hours}\n",
        "$$\n",
        "Now, calculate the speed using the formula:\n",
        "$$\n",
        "\\text{Speed} = \\frac{\\text{Distance}}{\\text{Time}}\n",
        "$$\n",
        "Substitute the given values:\n",
        "$$\n",
        "\\text{Speed} = \\frac{1.5 \\text{ km}}{\\frac{1}{60} \\text{ hours}}\n",
        "$$\n",
        "Simplify the expression:\n",
        "$$\n",
        "\\text{Speed} = 1.5 \\text{ km} \\times 60 \\text{ hours}^{-1}\n",
        "$$\n",
        "$$\n",
        "\\text{Speed} = 90 \\text{ km/h}\n",
        "$$\n",
        "\n",
        "Therefore, the speed is\n",
        "$\n",
        "90 \\text{ km/h}.\n",
        "$"
      ],
      "metadata": {
        "id": "VE6uNUkP_rqa"
      }
    },
    {
      "cell_type": "markdown",
      "source": [
        "But Ish is unsatisfied because Kepha hasn't answered what he was asking. Ish wants to know the speed at which they're going in that instant."
      ],
      "metadata": {
        "id": "HmYvJmqQC1Be"
      }
    },
    {
      "cell_type": "markdown",
      "source": [
        "Once again, Kepha attempts to do the math:\n",
        "\n",
        "    Okay, let's measure the distance and time.. right now.. at this road sign\n",
        "\n",
        "        Distance = 0m\n",
        "        Time = 0s\n",
        "        Speed = 0m/0s = wth\n",
        "\n",
        "This clearly can't be done because Kepha needs to know some **distance** and some **time** to calculate the speed at which they're going, right?\n",
        "\n",
        "But this is the avarage speed for the last short amount of time.\n",
        "\n",
        "*P.S.*\n",
        "Even Eric's speedometer shows him an average of how fast he's going after some time, not the at that very instant. This is bollocks🤯\n"
      ],
      "metadata": {
        "id": "zV-cpOluGl-8"
      }
    },
    {
      "cell_type": "markdown",
      "source": [
        "### Problem 2: Resting, jumping off cliffs and taking photos\n",
        "\n",
        "Our duo decide to rest at a cliff. Amazing scenery.\n",
        "\n",
        "Kepha, our restless feet, decides he wants to jump off the cliff. It's not that high, probably 10m tall, and Ish is to take a photo.\n",
        "\n",
        "Because Kepha wants to do a flip after a second and wants Ish to take a photo while he does the flip, Ish asks an obvious question, \"how fast will you be falling after a second?\"\n",
        "\n",
        "![image.png](data:image/png;base64,iVBORw0KGgoAAAANSUhEUgAAAIgAAAB4CAYAAAApKLpLAAAOO0lEQVR4Ae2dC3QU1RnHP7AK9Vk5VUDFqoDQg+iR0lPFikDkWD2FqshzNoiQBAu0kCpkEyHyEEx5erKz924eCEgCHhTUagtSNYIFsguCoJiitSFAAvIKD4EE5/rVu4/JJt2wM5nH7iZ3z7lnXt/9vjv/77d3ZmfnzgA0w09+fn6POXPmVKxbt+6DZrh7YpeMKrBt27aZhBB0ZjhPnzx5sqdRf6J+M1MAEduvWLGiPHtGdlV1dfUvmtnuid0xogAitl27dm3hggULTi5esPh4QUHBEkT8iRGfom4zUQARr8jNzV3W98G+mDQgCQcmDcTHHn0MCSGFiNiqmeym2I2mKlBSUjI8Y1rGkVmzZv07qX8SDug/ANPT08vHp40/UlBQ8Oem+o1ab4S7Ezhcb4EkLwXJtQEk+fdR6wgDexVAxBuysrI+LiwszM90Zv6Lw8EhyXRmli5fvrwwPy//Tc2HGsn1qK7WO+RPwOGW/HUceR3B4aqG5Fdu1eVDGFurACJ2mDF9RoXX6x333HPP7erfrz/ysnDhwl3zc+bv3bp16yOaWjDUfTU45EOabLnRaPlOkOQfIHnBVWodSf4IJNcL6rKYib0CvHfIycn555rX1yzbsmnLKZ/Xd8Hn9dWUfFRyvri4eC8iXha1lUMX/xQcch5IsgIOVyE4XINhlHsMSPIHEYvD3Qck13CQXCfq+eZ1JdfaeuvEQuwVKC4ufn716tXlUyZPOdjvoX448OGBmJGRUVl5qPIdRGytqYVS7n3gcNVosuVGkjwRJPlAPXtJXgIO1+Z668RC7BUoKysbsmfPnn3p6emHHZJDkSSJTZwwcR8idtLcOjMAcbheAUnepDmmMLRHAURsg4jdU1NSKzMyMo5lZmaeTk1NPYSI2k8YGwLiyB0d+GXCf500KCPl+8EhDxOHGHvya0oURLwjZWzKIWeGs2r69OmHx40ddwQRb9PsvCEg0So63F3AISOMXXqNauqQS2CUPF1dFjPxowAidktOTj7tdDors7Ozvx6dPPoMIt6puYUOuRc4XAz4rxmtH/4zd5Sc7Dcf6u4AknwKRlDtUGqNI+yMK1BZWXnv8GHDMXtGdtmcOXP2DBs2DGtra3to9jxmWdsff73sBIfrM/8JqJaK/JqH5HoHJFc+OOS/Q7J7kJZqwiYGCqxfv37wkCeH4KJFi7xOp/PrUSNHneWHnRg0RYSMNwX4/y1FRUVTpk2ddrSoqGjb3LlzD+XMy6kqLi6uf5GMKEOBMicQlgYUH4E87AkEr4+3/UnY9pAUuNuTCtk0DWbGU3FP6rAgbfRTFXOnSt4FzsHvvewcsfml54dvyZr0h20Fk66cHWpra3ft2VaUYcMChH0BhE2BQmyXsMmJh4bTVPjQk9YK47EUTLgyrF2tA/Pjg9Ngmzss3qM0hCN8GSirBcJeBw8mgfgXWD9ynjQoDcABmzypsCpRCk2Ft3m7sybfWwMUB4BHGQ2EZQNhrwJVNoVDEpoHyvb4QdEvU8utEQKEpsBsz3gYlCiFpMAzfrBT4ULE7PHzEKqMAaK8x3uRECR8CkT5B7jxlxHriZX1FWi2gITvZi5eCx42GQirrgcKZfmQizeEm4r5Bgq0CEBC+8xBIWxReI8ChJ0ED/YNmYhpAwVaFCChfad4G1DljVBvApQpQJl1d6mF4ibitEUCEkqUB58Cys6FgVIEeXh5aLOYAkCLBoQTIGMPIOyACglRfOK8JOyr0eIB4Vrwi2lE+bgOElYJHuwdJlPLnRWABHO/Bi8DylxhkJz3X7ZvuWgE9lwA0oAAfu0keN0ECDsMBdi+gUXLWhSARMi3BweF9SS7IQ+vjGDVMlYJQBrJM2UvqpBQZWOL/R9HANIIIHw1UdbUQcJeuYRl890kALlEbtfgFUDYrjpIlDGXsLZnU7KrN0jyVhjp/q0tAQUgUWR2YwegrIpDAoR9779uEqWK5s36h4VO/XHkX7b/PlsByKX/WY76b67mLGkw9OA9QNj5ICQ7NNSIbhIYZrE+umEECz5aUAASR4DwHBE2RT3U8H+GjXyG53YGPpxCch0MDAsl3YCP4GtsWGj4WGEeVwByaTj4PSu29iA8KTOxNRC2O9iLnAeKNxthBCSX0z94qylOBCBxCAhPpAd7q70IVTY0JbdqHQFI9CQbuXvN9h4klFnKlqqQeJSRodW6pw0BkeSF/zccNDQ8VBxi9MMUM0Dy8LrQnWlA2HHgy035NAREjw9xiIkOTMwA4YmkSqrai1BWoCe3qq1D/gtILq+6rGdGABLngPBkEqVUhURG/Y/nTKZ3geQ6Ag55IyS7BmjiI/D8kvn+pyBJrtdBck2DkXk/11S3qUbiQlkTlfPgQBUQytxN9BL/1QQgBnJEle0cEv/grDy09ptsoJmGqgpAAHqnFHl7pxZhsy4pKyOPH4pGjwAE4FdpK3v1TlnZrynlupyDB6+dfxiv+Wvl+Z5/fOvRpviwo86944qbNrRDABLtKxRlO1GeVs9FCGt+TyISgEQBINpmfi8rYZX+cxE+CGsZto1WJaG2C0BMSBdlk9RexOgfeSY0x1QXAhAT5OSDrQg7GuxFKoH3Ks3lIwAxKZOEZaq9CFXGmuQ19m4EICblwI1XA2Vngr2IOTcVmdQ0Q24EIIbkq1+ZMrfai+Rh5/obE3RJAGJi4ig+oAJC2CwTPcfOlQDEZO2DA8GBsK9N9hwbdwIQk3Wn7GW1F3Hjr032br87AYjJmudhTxUQwpaY7N1+dwIQCzQn7AsOCVB2xALv9roUgFigd/g1Ef581kT+CEAsyF4B3qIeZihbakEE+1wKQCzSmihbgoeZMzAzgV8GLQCxChA2sa4XwScsimK9WwGIRRovw5/xx2sGe5FlFkWx3q0AxEKNifKJHxD+KKtE/QhALMwcZbPVwwxJ0BchCUAsBMSN/esAUVIsjGSdawGIddpCLrYByi4Ez0NWWRjJOtcCEOu09XumSklCn4cIQCwGhLBs9TCTiO+oEYBYDQg+qALiYRMsjma+ewGI+ZrW8xh4xHfwPER5s962RFgQgNiQJapsDJ6onrAhmrkhBCDm6hnRW/1/d++JaBOvKwUgNmSG4H3qeQhl6TZENC+EAMQ8LRv1FBie6X8BtP8dvo0axuEGAYhNSQm+y9f/RnCbQpoSRgBiiozRnVBG/CeqhLGEenOEACR6bk2x8LAJ6nlIHvY0xacdTgQgdqjMH3qHD6mAGHm+qk3NVcMIQFQprJ0pxHYqIJTNtTaYid4FICaKGc0VZUcC5yHK36KZxs12AYiNqaDKhwFA2H9tjGoslADEmH66ahOWqx5mEuVFiQIQXSk2ZkxYWhggvzHmzKbaAhCbhOZhwh8P4VbG2Ri56aEEIE3XTnfN1/AqtQehCfIWTQGI7jQbqxB6ZCZVPjDmyKbaAhCbhA6FocoG/y8ZyqpCq+J6KgCxOT3B55gBZT8kxOMyBSA2A0JYhnoe4sGuNkfXH04Aol8zQzWoMiIMkPh/dogAxFC69Vf24P0qIER5Rr8Dm2sIQGwW3IU3qYBQNtPm6PrDCUD0a2a4BmHfc0iAsFcN+7LagQDEaoUj+Keswg+I0ZczR3Bt+ioBiOmSRndY9667ndGNY2whAIlBAojyXqAHYYdiEF1fSAGIPr1MsSbs1SAgP5jiz0onAhAr1W3EN2E5HBA/JASvb8QqPlYLQGKQB8rSwwDpFoMWaA8pANGulWmWVBkTBsh9pvm1wpEAxApVo/ikOCQMkIejWMd2swAkBvp7cGAYII/HoAXaQwpAtGtlmmX4aH+iOEzza4UjAYgVqkbxKWOPuh6EPRvFOrabBSAx0D8Pbw0DZGoMWqA9pABEu1amWbqxQxggWab5tcKRAMQcVXE7dMOdcJMmb3nYMQyQTE11gkZYCu312Bu2FYAYlhDQC7czXyvkRfHBOtwBvS7pNfyeEMKiAoI+6Mu8kMt8cJj5wN6bnQUgl0ylpo1sO2T54dje5nAIFH8yvVCIXngc98LV9RxRvFntQShz1tsWXEAf9GE+WMJ8UFnnMwAh+uB3kepYsk4AYlxWxQulPIl7a18auv/46Amny7ovr9l5zWfhiVW88AnzwXLmg1kVW27505Or3tjNy4r1kodthxeZF5YqXnif+WAf88L5UN2Ln7b96mxZ16LyY8+MP3BUmuhf74XXjLdaowcBiEahGjHj5wQ8aTW7rtv1KXoGhZe9tfOe+rai/6zvPr/lXZ7oUNKjTS/uaHvg7JedVx04NubZcH98/uKOthXMC+WNNMf81QIQY5ridniYJ/zs3tvXNExmpGXewxz9pk/O6bKuRbyc/OpucrT8gXmVlYOnVZxITeW9UKR6oXXnPu+4gccz1modtQUgOsSKYKr4YDhPGE90KIlWTs9+ecdqHg93QPcIzTF/lQDEmKaKF57mCTte3ifHSjBCvk+X3bnCD4gX7jfWco21BSAahWrEDH2QxBN2al+P/FASrZye29N+Y7AH6dhIk8xdLQAxpmfoGsi5Lzq9bSUY3PdOxTVY2XH5MeZrVWOs1Tpqq4Ckwmt5KZCVKCV/POR40lqhJw3O6dhdS0yZr9U+ZcflR3fXvjzESkiOlz8wj/cezAcrm7YjfKSWzvLSxNsPBITmYidecaVdUat3n822n/tuxjqeuG9LO57c7+1yuLy0y5H9Xn/5dr+3i+ZywNv5aJW304njvhtPnfS2++4771UXarxtLgagCFwk4/NJRRtl3fuQizcAUKVEb3lotuvLrMm9qhO1PDFj2jd699kK+zfff6Jq7+buZ/Zv6XTu2LZ2tedK2yoNE6tl+XxpG6V627UXq7bcWMN9lW3uenbXprtOb/+4VzUvs99+4T9Naz/e9j+yVf5c1D6V8AAAAABJRU5ErkJggg==)\n",
        "\n"
      ],
      "metadata": {
        "id": "JSNfvgpzJA6-"
      }
    },
    {
      "cell_type": "markdown",
      "source": [
        "Kepha pulls up the falling due to gravity formula to calculate how far he'll have fallen after a second\n",
        "\n",
        "$$\n",
        "d = \\frac{1}{2}gt^2\n",
        "$$\n",
        "\n",
        "where:\n",
        "\\begin{align*}\n",
        "d & = \\text{distance fallen} \\\\\n",
        "g & = \\text{acceleration due to gravity (approximately } 9.8 \\, \\text{m/s}^2 \\text{ on Earth)} \\\\\n",
        "t & = \\text{time in seconds}\n",
        "\\end{align*}\n",
        "\n",
        "After a second, Kepha will have fallen:\n",
        "$$\n",
        "d = \\frac{1}{2}*9.8*1^2 = 5m\n",
        "$$\n",
        "\n",
        "And this translates to:\n",
        "$$\n",
        "\\text{Speed} = \\frac{5 \\text{m}}{{1} \\text{s}} = 5m/s\n",
        "$$\n"
      ],
      "metadata": {
        "id": "sonwnvOKMBpW"
      }
    },
    {
      "cell_type": "markdown",
      "source": [
        "But then again, this is not what Ish wants. This is the ***avarage*** speed at which Kepha will be falling.\n",
        "\n",
        "Ish wants to know exactly how fast Kepha will be falling at $t = 1second$ so that he can position the camera right to capture Kepha's flip.\n",
        "\n",
        "![image.png](data:image/png;base64,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)\n",
        "\n",
        "Quick calculation:\n",
        "$$\n",
        "\\text{Speed} = \\frac{5 - 5 \\text{m}}{{1 - 1} \\text{ s}} = \\frac{0 \\text{m}}{{0} \\text{ s}} = whatonearth\n",
        "$$"
      ],
      "metadata": {
        "id": "ww_dDGqEQf5m"
      }
    },
    {
      "cell_type": "markdown",
      "source": [
        "So, Kepha decides to invent time, time so short it won't even matter and won't have a value.\n",
        "\n",
        "He calls the time  $\\Delta t$\n",
        "\n",
        "*Note* : $\\Delta$ is a symbol used to denote change or difference in something. In our case, it means \"change in time, t\"."
      ],
      "metadata": {
        "id": "cT6BhjwXRKhE"
      }
    },
    {
      "cell_type": "markdown",
      "source": [
        "With this new invention, Kepha works out the difference in distance between $t$ and $t + Δt$\n",
        "\n",
        "We know that at 1 second, Kepha has fallen:\n",
        "$$\n",
        "d = \\frac{1}{2}*9.8*1^2 = 5m\n",
        "$$\n",
        "\n",
        "At $t + Δt$, Kepha has fallen:\n",
        "$$\n",
        "d = \\frac{1}{2}*9.8*(1+Δt)^2m\n",
        "$$\n",
        "\n",
        "Expanding $(1+Δt)^2$, we have:\n",
        "$$\n",
        "d= 5 + 10Δt + 5(Δt)^2 m\n",
        "$$\n",
        "\n",
        "![image.png](data:image/png;base64,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)"
      ],
      "metadata": {
        "id": "d2YRd_8HSRKy"
      }
    },
    {
      "cell_type": "markdown",
      "source": [
        "At 1 second, we have:\n",
        "$$\n",
        "d = 5m\n",
        "$$\n",
        "\n",
        "At $(1 + Δt)$ seconds, we have:\n",
        "$$\n",
        "d= 5 + 10Δt + 5(Δt)^2 m\n",
        "$$\n",
        "\n",
        "So, between 1 second and $(1 + Δt)$ seconds, we have:\n",
        "$$\n",
        "Δd = (5 + 10Δt + 5(Δt)^2 - 5)m\n",
        "$$\n",
        "\n",
        "The speed at which Kepha is falling at would therefore be:\n",
        "$$\n",
        "\\text{Speed} = \\frac{5 + 10Δt + 5(Δt)^2 - 5 \\text{ m}}{{Δt} \\text{ s}}\n",
        "$$\n",
        "\n",
        "$$\n",
        "= \\frac{10Δt + 5(Δt)^2 \\text{ m}}{{Δt} \\text{ s}}\n",
        "$$\n",
        "\n",
        "$$\n",
        "= 10 + 5Δt \\text{ m/s}\n",
        "$$\n",
        "\n",
        "\n",
        "Kepha wanted the time value to be so small it won't even matter as he was inventing his time. If he shrinks the that value to a really small one, like 0, then the speed would be:\n",
        "$$\n",
        "\\text{Speed} = 10 + 5(0) \\text{ m/s}\n",
        "$$\n",
        "\n",
        "$$\n",
        "= 10m/s\n",
        "$$"
      ],
      "metadata": {
        "id": "AClfGsCWW7GK"
      }
    },
    {
      "cell_type": "markdown",
      "source": [
        "With this new revelation, Kepha tells Ish \"I'll be falling at exactly 10m/s\"\n",
        "\n",
        "\"Si I thought you said you couldn't work it out\"\n",
        "\n",
        "\"Bro, Calculus\""
      ],
      "metadata": {
        "id": "TVpzoyrBaLC2"
      }
    },
    {
      "cell_type": "markdown",
      "source": [
        "What Kepha used to slice time and distance into smaller chunks is called ***Differential Calculus***. Using this technique, the answer came to us without banging our heads for solutions."
      ],
      "metadata": {
        "id": "GI_AfSGVeRSf"
      }
    },
    {
      "cell_type": "markdown",
      "source": [
        "So, does this technique work for other solutions or this was just sheer luck?\n",
        "\n",
        "Let's try it with another function $y = x^3$ and use a graph. Kepha doesn't have to break his leg this time 😀"
      ],
      "metadata": {
        "id": "50oDWA6Uf_qB"
      }
    },
    {
      "cell_type": "code",
      "source": [
        "import numpy as np\n",
        "import matplotlib.pyplot as plt"
      ],
      "metadata": {
        "id": "PHO8rFxegf31"
      },
      "execution_count": 2,
      "outputs": []
    },
    {
      "cell_type": "code",
      "source": [
        "x = np.linspace(-3, 3, num=100)\n",
        "y = x**3\n",
        "\n",
        "plt.plot(x, y)\n",
        "plt.title('Plot of $y = x^3$')\n",
        "plt.xlabel('$x$')\n",
        "plt.ylabel('$y$')\n",
        "plt.grid(color = 'gray', linestyle = '--', linewidth = 0.5)\n",
        "plt.show()"
      ],
      "metadata": {
        "colab": {
          "base_uri": "https://localhost:8080/",
          "height": 476
        },
        "id": "ZJSg_hVUAOvn",
        "outputId": "4b89d4fe-ca05-4d39-cbf0-c26294993511"
      },
      "execution_count": 9,
      "outputs": [
        {
          "output_type": "display_data",
          "data": {
            "text/plain": [
              "<Figure size 640x480 with 1 Axes>"
            ],
            "image/png": "[encoded data removed]"
          },
          "metadata": {}
        }
      ]
    },
    {
      "cell_type": "markdown",
      "source": [
        "#### Question: What is the slope of the function $y = x^3$ at x = 1?\n",
        "\n",
        "At $x = 1 $, $y = 1 ^ 3 = 1$\n",
        "\n",
        "At $x = 1 + Δx$, $y = (1+Δx)^3$\n",
        "\n",
        "Expanding $(1+Δx)^3$\n",
        "\n",
        "We get $y = 1 + 3Δx + 3(Δx)^2 + (Δx)^3$\n",
        "\n",
        "Now, let's calculate the difference in the values of y between $x = 1$ and $x = 1 + Δx$\n",
        "\n",
        "$$\n",
        "Δy = 1 + 3Δx + 3(Δx)^2 + (Δx)^3 − 1\n",
        "$$\n",
        "\n",
        "$$\n",
        "= 3Δx + 3(Δx)^2 + (Δx)^3\n",
        "$$\n",
        "\n",
        "\n",
        "Then, our slope becomes:\n",
        "$$\n",
        "\\text{Slope} = \\frac{3Δx + 3(Δx)^2 + (Δx)^3}{{Δx}}\n",
        "$$\n",
        "\n",
        "$$\n",
        "= 3 + 3Δx + (Δx)^2\n",
        "$$\n",
        "\n",
        "\n",
        "Mainatining the value of $Δx$ as 0, our slope becomes 3\n",
        "\n",
        "$$\n",
        "\\text{Slope} = 3\n",
        "$$"
      ],
      "metadata": {
        "id": "WuSvcsXl_6uZ"
      }
    },
    {
      "cell_type": "code",
      "source": [],
      "metadata": {
        "id": "OYXsWuhBFoeu"
      },
      "execution_count": null,
      "outputs": []
    }
  ]
}