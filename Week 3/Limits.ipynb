{
  "nbformat": 4,
  "nbformat_minor": 0,
  "metadata": {
    "colab": {
      "provenance": []
    },
    "kernelspec": {
      "name": "python3",
      "display_name": "Python 3"
    },
    "language_info": {
      "name": "python"
    }
  },
  "cells": [
    {
      "cell_type": "markdown",
      "source": [
        "## Limits\n",
        "\n",
        "- Something approaching something 🙂\n",
        "- Think about the last time you got stuck working something out. You couldn't work it out directly, but you could see what it should be as you got closer and closer to the solution.\n"
      ],
      "metadata": {
        "id": "gNka5EOgIQGx"
      }
    },
    {
      "cell_type": "markdown",
      "source": [
        "- Using an example, because we need to see this practically:\n",
        "\n",
        "Solve for:\n",
        "$$\n",
        "\\frac{x^2 - 1}{x - 1}\n",
        "$$\n",
        "\n",
        "Taking $x = 1$:\n",
        "$$\n",
        "\\frac{1^2 - 1}{1 - 1} = \\frac{0}{0}\n",
        "$$\n",
        "\n",
        "Now, $\\frac{0}{0}$ is a nightmare, being that its value is indeterminate. We need another way to solve this."
      ],
      "metadata": {
        "id": "PPYc1LHUdLlr"
      }
    },
    {
      "cell_type": "markdown",
      "source": [
        "Instead of blatantly using $x = 1$, we could try **approaching** the solution:\n",
        "$$\n",
        "x \\quad \\frac{x^2 - 1}{x - 1}\n",
        "$$\n",
        "\n",
        "$$\n",
        "0.5 \\quad \\frac{0.5^2 - 1}{0.5 - 1} = 1.50000\n",
        "$$\n",
        "\n",
        "$$\n",
        "0.9 \\quad \\frac{0.9^2 - 1}{0.9 - 1} = 1.90000\n",
        "$$\n",
        "\n",
        "$$\n",
        "0.99 \\quad \\frac{0.99^2 - 1}{0.99 - 1} = 1.99000\n",
        "$$\n",
        "\n",
        "$$\n",
        "0.999 \\quad \\frac{0.999^2 - 1}{0.999 - 1} = 1.99900\n",
        "$$\n",
        "\n",
        "$$\n",
        "0.9999 \\quad \\frac{0.9999^2 - 1}{0.9999 - 1} = 1.99990\n",
        "$$\n",
        "\n",
        "$$\n",
        "0.99999 \\quad \\frac{0.99999^2 - 1}{0.99999 - 1} = 1.99999\n",
        "$$\n",
        "\n",
        "Interesting discovery: As x gets closer to 1, $\\frac{x^2 - 1}{x - 1}$ gets closer to 2"
      ],
      "metadata": {
        "id": "-qxPQ279dM4L"
      }
    },
    {
      "cell_type": "markdown",
      "source": [
        "And now we got a situation:\n",
        "1. Using x = 1, we get an indeterminate solution\n",
        "2. We can clearly see that our answer is going to be 2\n",
        "\n",
        "Mathematicians became crafty and named this technique \"limits\", because we badly want to give the answer as \"2\", but we can't.\n",
        "\n",
        "In Mathematical lingo, they say:\n",
        "\n",
        "\n",
        "> The **limit** of $\\frac{x^2 - 1}{x - 1}$ as x approaches 1 is 2\n",
        "\n",
        "And they write it as:\n",
        "\n",
        "$$\n",
        "lim_{x \\to 1} \\frac{x^2 - 1}{x - 1} = 2\n",
        "$$\n"
      ],
      "metadata": {
        "id": "AB6AKNMtgBh_"
      }
    },
    {
      "cell_type": "markdown",
      "source": [
        "### What if we also check from the other side ...\n",
        "\n",
        "$$\n",
        "x \\quad \\frac{x^2 - 1}{x - 1}\n",
        "$$\n",
        "\n",
        "$$\n",
        "1.5 \\quad \\frac{1.5^2 - 1}{1.5 - 1} = 2.50000\n",
        "$$\n",
        "\n",
        "$$\n",
        "1.1 \\quad \\frac{1.1^2 - 1}{1.1 - 1} = 2.10000\n",
        "$$\n",
        "\n",
        "$$\n",
        "1.01\t \\quad \\frac{1.01^2 - 1}{1.01 - 1} = 2.01000\n",
        "$$\n",
        "\n",
        "$$\n",
        "1.001\t \\quad \\frac{1.001^2 - 1}{1.001 - 1} = 2.00100\n",
        "$$\n",
        "\n",
        "$$\n",
        "1.0001 \\quad \\frac{1.0001^2 - 1}{1.0001 - 1} = 2.00010\n",
        "$$\n",
        "\n",
        "$$\n",
        "1.00001\t \\quad \\frac{1.00001^2 - 1}{1.00001 - 1} = 2.00001\n",
        "$$\n",
        "\n",
        "We see that it's also heading for 2, that's alright."
      ],
      "metadata": {
        "id": "Scf2960BlBU_"
      }
    },
    {
      "cell_type": "markdown",
      "source": [
        "A graph of the equation would look something like this diagram:\n",
        "\n",
        "![image.png](data:image/png;base64,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)\n",
        "\n",
        "There's some sort of a hole where x = 1, so we can't outrightly say what the value of x = 1 is. But we can say that as we approach 1, the limit is 2."
      ],
      "metadata": {
        "id": "OrScSxSGm-EY"
      }
    }
  ]
}