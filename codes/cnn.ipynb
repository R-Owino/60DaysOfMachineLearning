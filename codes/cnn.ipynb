{
 "cells": [
  {
   "metadata": {},
   "cell_type": "markdown",
   "source": "# Import libraries",
   "id": "8a289c5e1de7e01"
  },
  {
   "metadata": {
    "ExecuteTime": {
     "end_time": "2024-08-04T11:00:24.870727Z",
     "start_time": "2024-08-04T11:00:12.724868Z"
    }
   },
   "cell_type": "code",
   "source": [
    "import pandas as pd\n",
    "from sklearn.preprocessing import StandardScaler, LabelEncoder\n",
    "import numpy as np\n",
    "from sklearn.ensemble import IsolationForest\n",
    "from tensorflow.keras.models import Sequential\n",
    "from tensorflow.keras.layers import Conv1D,  Flatten, Dense, Dropout"
   ],
   "id": "1ce872a03728d52b",
   "outputs": [],
   "execution_count": 1
  },
  {
   "metadata": {},
   "cell_type": "markdown",
   "source": "# Load and preprocess the data",
   "id": "94ca6798b80659a9"
  },
  {
   "metadata": {
    "ExecuteTime": {
     "end_time": "2024-08-04T11:01:37.774631Z",
     "start_time": "2024-08-04T11:01:37.643811Z"
    }
   },
   "cell_type": "code",
   "source": [
    "file_path = './dataset/extract.csv'\n",
    "data = pd.read_csv(file_path)\n",
    "data.head()"
   ],
   "id": "46420abc41f4873c",
   "outputs": [
    {
     "data": {
      "text/plain": [
       "      gas                                               hash  \\\n",
       "0  373326  0xa92d47142f13f96991580fbe3b00f90d09e938ce2f5c...   \n",
       "1  246120  0xfd889900ac45be0d6a59e4fd35b58c3f2272aac4fecf...   \n",
       "2  331041  0x309bee3f88a638b5caf2a3f047a10e7764161732ed10...   \n",
       "3   46506  0x93060c31318c3af3cf1f72defe5cd1d9d59adf6141d1...   \n",
       "4  460262  0xc182722b111eeef7199040c97c2de334ff0123e000ee...   \n",
       "\n",
       "                                               input  nonce     value  \\\n",
       "0  0x153a395710e809d7003de1253fa7935a41d6291cf071...  13745  193269.0   \n",
       "1  0x55e4b7be00000000000000000000000040fd72257597...   2105       0.0   \n",
       "2  0x3593564c000000000000000000000000000000000000...    502       0.0   \n",
       "3  0x095ea7b3000000000000000000000000881d40237659...    143       0.0   \n",
       "4  0x5f575529000000000000000000000000000000000000...    144       0.0   \n",
       "\n",
       "   block_number                                         block_hash  \\\n",
       "0      18246421  0xdd8d3a5872f30406ae4fd2473936af9fe39dbad30510...   \n",
       "1      18246421  0xdd8d3a5872f30406ae4fd2473936af9fe39dbad30510...   \n",
       "2      18246421  0xdd8d3a5872f30406ae4fd2473936af9fe39dbad30510...   \n",
       "3      18246421  0xdd8d3a5872f30406ae4fd2473936af9fe39dbad30510...   \n",
       "4      18246421  0xdd8d3a5872f30406ae4fd2473936af9fe39dbad30510...   \n",
       "\n",
       "   transaction_index                                from_address  \\\n",
       "0                  0  0x202bb2fab1e35d940fde99b214ba49dafbcef62a   \n",
       "1                  1  0xdb0937f8a4242360c2e989f139e105917ac7458b   \n",
       "2                  2  0x0b22861932d2845db1543319b8512604f777c761   \n",
       "3                  3  0x63efb91c7a727beaa22466b855f9a86e3be01575   \n",
       "4                  4  0x63efb91c7a727beaa22466b855f9a86e3be01575   \n",
       "\n",
       "                                   to_address  ...  receipt_gas_used  \\\n",
       "0  0x00fc00900000002c00be4ef8f49c000211000c43  ...            248884   \n",
       "1  0x00000000009726632680fb29d3f7a9734e3010e2  ...            175313   \n",
       "2  0x3fc91a3afd70395cd496c647d5a6cc9d4b2b7fad  ...            254854   \n",
       "3  0xc944e90c64b2c07662a292be6244bdf05cda44a7  ...             46506   \n",
       "4  0x881d40237659c251811cec9c364ef91dc08d300c  ...            269452   \n",
       "\n",
       "   receipt_contract_address  receipt_status  receipt_effective_gas_price  \\\n",
       "0                       NaN               1                   6657741714   \n",
       "1                       NaN               1                   8157741714   \n",
       "2                       NaN               1                   6697958290   \n",
       "3                       NaN               1                   6957741714   \n",
       "4                       NaN               1                   6957741714   \n",
       "\n",
       "   transaction_type  max_fee_per_gas  max_priority_fee_per_gas  \\\n",
       "0                 2       6657741714                         0   \n",
       "1                 2       8840729391                1500000000   \n",
       "2                 2       7142358390                  40216576   \n",
       "3                 2      10308286565                 300000000   \n",
       "4                 2      10308286565                 300000000   \n",
       "\n",
       "    block_timestamp        date     last_modified  \n",
       "0  30/09/2023 05:25  2023-09-30  01/10/2023 00:20  \n",
       "1  30/09/2023 05:25  2023-09-30  01/10/2023 00:20  \n",
       "2  30/09/2023 05:25  2023-09-30  01/10/2023 00:20  \n",
       "3  30/09/2023 05:25  2023-09-30  01/10/2023 00:20  \n",
       "4  30/09/2023 05:25  2023-09-30  01/10/2023 00:20  \n",
       "\n",
       "[5 rows x 22 columns]"
      ],
      "text/html": [
       "<div>\n",
       "<style scoped>\n",
       "    .dataframe tbody tr th:only-of-type {\n",
       "        vertical-align: middle;\n",
       "    }\n",
       "\n",
       "    .dataframe tbody tr th {\n",
       "        vertical-align: top;\n",
       "    }\n",
       "\n",
       "    .dataframe thead th {\n",
       "        text-align: right;\n",
       "    }\n",
       "</style>\n",
       "<table border=\"1\" class=\"dataframe\">\n",
       "  <thead>\n",
       "    <tr style=\"text-align: right;\">\n",
       "      <th></th>\n",
       "      <th>gas</th>\n",
       "      <th>hash</th>\n",
       "      <th>input</th>\n",
       "      <th>nonce</th>\n",
       "      <th>value</th>\n",
       "      <th>block_number</th>\n",
       "      <th>block_hash</th>\n",
       "      <th>transaction_index</th>\n",
       "      <th>from_address</th>\n",
       "      <th>to_address</th>\n",
       "      <th>...</th>\n",
       "      <th>receipt_gas_used</th>\n",
       "      <th>receipt_contract_address</th>\n",
       "      <th>receipt_status</th>\n",
       "      <th>receipt_effective_gas_price</th>\n",
       "      <th>transaction_type</th>\n",
       "      <th>max_fee_per_gas</th>\n",
       "      <th>max_priority_fee_per_gas</th>\n",
       "      <th>block_timestamp</th>\n",
       "      <th>date</th>\n",
       "      <th>last_modified</th>\n",
       "    </tr>\n",
       "  </thead>\n",
       "  <tbody>\n",
       "    <tr>\n",
       "      <th>0</th>\n",
       "      <td>373326</td>\n",
       "      <td>0xa92d47142f13f96991580fbe3b00f90d09e938ce2f5c...</td>\n",
       "      <td>0x153a395710e809d7003de1253fa7935a41d6291cf071...</td>\n",
       "      <td>13745</td>\n",
       "      <td>193269.0</td>\n",
       "      <td>18246421</td>\n",
       "      <td>0xdd8d3a5872f30406ae4fd2473936af9fe39dbad30510...</td>\n",
       "      <td>0</td>\n",
       "      <td>0x202bb2fab1e35d940fde99b214ba49dafbcef62a</td>\n",
       "      <td>0x00fc00900000002c00be4ef8f49c000211000c43</td>\n",
       "      <td>...</td>\n",
       "      <td>248884</td>\n",
       "      <td>NaN</td>\n",
       "      <td>1</td>\n",
       "      <td>6657741714</td>\n",
       "      <td>2</td>\n",
       "      <td>6657741714</td>\n",
       "      <td>0</td>\n",
       "      <td>30/09/2023 05:25</td>\n",
       "      <td>2023-09-30</td>\n",
       "      <td>01/10/2023 00:20</td>\n",
       "    </tr>\n",
       "    <tr>\n",
       "      <th>1</th>\n",
       "      <td>246120</td>\n",
       "      <td>0xfd889900ac45be0d6a59e4fd35b58c3f2272aac4fecf...</td>\n",
       "      <td>0x55e4b7be00000000000000000000000040fd72257597...</td>\n",
       "      <td>2105</td>\n",
       "      <td>0.0</td>\n",
       "      <td>18246421</td>\n",
       "      <td>0xdd8d3a5872f30406ae4fd2473936af9fe39dbad30510...</td>\n",
       "      <td>1</td>\n",
       "      <td>0xdb0937f8a4242360c2e989f139e105917ac7458b</td>\n",
       "      <td>0x00000000009726632680fb29d3f7a9734e3010e2</td>\n",
       "      <td>...</td>\n",
       "      <td>175313</td>\n",
       "      <td>NaN</td>\n",
       "      <td>1</td>\n",
       "      <td>8157741714</td>\n",
       "      <td>2</td>\n",
       "      <td>8840729391</td>\n",
       "      <td>1500000000</td>\n",
       "      <td>30/09/2023 05:25</td>\n",
       "      <td>2023-09-30</td>\n",
       "      <td>01/10/2023 00:20</td>\n",
       "    </tr>\n",
       "    <tr>\n",
       "      <th>2</th>\n",
       "      <td>331041</td>\n",
       "      <td>0x309bee3f88a638b5caf2a3f047a10e7764161732ed10...</td>\n",
       "      <td>0x3593564c000000000000000000000000000000000000...</td>\n",
       "      <td>502</td>\n",
       "      <td>0.0</td>\n",
       "      <td>18246421</td>\n",
       "      <td>0xdd8d3a5872f30406ae4fd2473936af9fe39dbad30510...</td>\n",
       "      <td>2</td>\n",
       "      <td>0x0b22861932d2845db1543319b8512604f777c761</td>\n",
       "      <td>0x3fc91a3afd70395cd496c647d5a6cc9d4b2b7fad</td>\n",
       "      <td>...</td>\n",
       "      <td>254854</td>\n",
       "      <td>NaN</td>\n",
       "      <td>1</td>\n",
       "      <td>6697958290</td>\n",
       "      <td>2</td>\n",
       "      <td>7142358390</td>\n",
       "      <td>40216576</td>\n",
       "      <td>30/09/2023 05:25</td>\n",
       "      <td>2023-09-30</td>\n",
       "      <td>01/10/2023 00:20</td>\n",
       "    </tr>\n",
       "    <tr>\n",
       "      <th>3</th>\n",
       "      <td>46506</td>\n",
       "      <td>0x93060c31318c3af3cf1f72defe5cd1d9d59adf6141d1...</td>\n",
       "      <td>0x095ea7b3000000000000000000000000881d40237659...</td>\n",
       "      <td>143</td>\n",
       "      <td>0.0</td>\n",
       "      <td>18246421</td>\n",
       "      <td>0xdd8d3a5872f30406ae4fd2473936af9fe39dbad30510...</td>\n",
       "      <td>3</td>\n",
       "      <td>0x63efb91c7a727beaa22466b855f9a86e3be01575</td>\n",
       "      <td>0xc944e90c64b2c07662a292be6244bdf05cda44a7</td>\n",
       "      <td>...</td>\n",
       "      <td>46506</td>\n",
       "      <td>NaN</td>\n",
       "      <td>1</td>\n",
       "      <td>6957741714</td>\n",
       "      <td>2</td>\n",
       "      <td>10308286565</td>\n",
       "      <td>300000000</td>\n",
       "      <td>30/09/2023 05:25</td>\n",
       "      <td>2023-09-30</td>\n",
       "      <td>01/10/2023 00:20</td>\n",
       "    </tr>\n",
       "    <tr>\n",
       "      <th>4</th>\n",
       "      <td>460262</td>\n",
       "      <td>0xc182722b111eeef7199040c97c2de334ff0123e000ee...</td>\n",
       "      <td>0x5f575529000000000000000000000000000000000000...</td>\n",
       "      <td>144</td>\n",
       "      <td>0.0</td>\n",
       "      <td>18246421</td>\n",
       "      <td>0xdd8d3a5872f30406ae4fd2473936af9fe39dbad30510...</td>\n",
       "      <td>4</td>\n",
       "      <td>0x63efb91c7a727beaa22466b855f9a86e3be01575</td>\n",
       "      <td>0x881d40237659c251811cec9c364ef91dc08d300c</td>\n",
       "      <td>...</td>\n",
       "      <td>269452</td>\n",
       "      <td>NaN</td>\n",
       "      <td>1</td>\n",
       "      <td>6957741714</td>\n",
       "      <td>2</td>\n",
       "      <td>10308286565</td>\n",
       "      <td>300000000</td>\n",
       "      <td>30/09/2023 05:25</td>\n",
       "      <td>2023-09-30</td>\n",
       "      <td>01/10/2023 00:20</td>\n",
       "    </tr>\n",
       "  </tbody>\n",
       "</table>\n",
       "<p>5 rows × 22 columns</p>\n",
       "</div>"
      ]
     },
     "execution_count": 3,
     "metadata": {},
     "output_type": "execute_result"
    }
   ],
   "execution_count": 3
  },
  {
   "metadata": {},
   "cell_type": "markdown",
   "source": "# Columns",
   "id": "1bb6121ae8b2536b"
  },
  {
   "metadata": {
    "ExecuteTime": {
     "end_time": "2024-08-04T11:02:08.489722Z",
     "start_time": "2024-08-04T11:02:08.466218Z"
    }
   },
   "cell_type": "code",
   "source": "data.columns",
   "id": "e9fa41b7cea54753",
   "outputs": [
    {
     "data": {
      "text/plain": [
       "Index(['gas', 'hash', 'input', 'nonce', 'value', 'block_number', 'block_hash',\n",
       "       'transaction_index', 'from_address', 'to_address', 'gas_price',\n",
       "       'receipt_cumulative_gas_used', 'receipt_gas_used',\n",
       "       'receipt_contract_address', 'receipt_status',\n",
       "       'receipt_effective_gas_price', 'transaction_type', 'max_fee_per_gas',\n",
       "       'max_priority_fee_per_gas', 'block_timestamp', 'date', 'last_modified'],\n",
       "      dtype='object')"
      ]
     },
     "execution_count": 4,
     "metadata": {},
     "output_type": "execute_result"
    }
   ],
   "execution_count": 4
  },
  {
   "metadata": {},
   "cell_type": "markdown",
   "source": "# Data preprocessing",
   "id": "b7d18e571f73d303"
  },
  {
   "metadata": {
    "ExecuteTime": {
     "end_time": "2024-08-04T11:03:03.949500Z",
     "start_time": "2024-08-04T11:03:03.938738Z"
    }
   },
   "cell_type": "code",
   "source": [
    "data_cleaned = data.drop(columns=['hash', 'input', 'block_hash', 'from_address', 'to_address', 'receipt_contract_address', 'last_modified'])\n",
    "data_cleaned.fillna(0, inplace=True)"
   ],
   "id": "820100703b3724c5",
   "outputs": [],
   "execution_count": 5
  },
  {
   "metadata": {},
   "cell_type": "markdown",
   "source": "# Label Encoding",
   "id": "15a0e1ddb2f2881c"
  },
  {
   "metadata": {
    "ExecuteTime": {
     "end_time": "2024-08-04T11:04:02.525838Z",
     "start_time": "2024-08-04T11:04:02.495379Z"
    }
   },
   "cell_type": "code",
   "source": [
    "label_encoders = {}\n",
    "categorical_columns = ['receipt_status']\n",
    "\n",
    "for column in categorical_columns:\n",
    "    label_encoders[column] = LabelEncoder()\n",
    "    data_cleaned[column] = label_encoders[column].fit_transform(data_cleaned[column])\n",
    "\n",
    "numerical_columns = data_cleaned.select_dtypes(include=[np.number]).columns.tolist()\n",
    "scaler = StandardScaler()\n",
    "data_cleaned[numerical_columns] = scaler.fit_transform(data_cleaned[numerical_columns])"
   ],
   "id": "4b48309bf966c224",
   "outputs": [],
   "execution_count": 6
  },
  {
   "metadata": {},
   "cell_type": "markdown",
   "source": "# Initial anomaly detection using Isolation Forest",
   "id": "39a02bf8922509c7"
  },
  {
   "metadata": {
    "ExecuteTime": {
     "end_time": "2024-08-04T11:04:38.653459Z",
     "start_time": "2024-08-04T11:04:38.143334Z"
    }
   },
   "cell_type": "code",
   "source": [
    "clf = IsolationForest(contamination='auto', random_state=42)\n",
    "X = data_cleaned.drop(columns=['block_timestamp', 'date'])\n",
    "clf.fit(X)\n",
    "data_cleaned['anomaly'] = clf.predict(X)\n",
    "data_cleaned['anomaly'] = data_cleaned['anomaly'].map({1: 'normal', -1: 'anomaly'})"
   ],
   "id": "19b00d885e61ab1c",
   "outputs": [],
   "execution_count": 7
  },
  {
   "metadata": {},
   "cell_type": "markdown",
   "source": "# Prepare data for CNN",
   "id": "91045aff9630a404"
  },
  {
   "metadata": {
    "ExecuteTime": {
     "end_time": "2024-08-04T11:05:15.229717Z",
     "start_time": "2024-08-04T11:05:15.210223Z"
    }
   },
   "cell_type": "code",
   "source": [
    "time_steps = 1\n",
    "features = X.shape[1]\n",
    "X_cnn = X.values.reshape(X.shape[0], time_steps, features)\n",
    "y_cnn = (data_cleaned['anomaly'] == 'anomaly').astype(int).values"
   ],
   "id": "83fb461fdc508f08",
   "outputs": [],
   "execution_count": 8
  },
  {
   "metadata": {},
   "cell_type": "markdown",
   "source": "# Define CNN model",
   "id": "a214ace89424cff0"
  },
  {
   "metadata": {
    "ExecuteTime": {
     "end_time": "2024-08-04T11:06:58.090974Z",
     "start_time": "2024-08-04T11:06:57.881560Z"
    }
   },
   "cell_type": "code",
   "source": [
    "model = Sequential([\n",
    "    Conv1D(filters=64, kernel_size=1, activation='relu', input_shape=(time_steps, features)),\n",
    "    Flatten(),\n",
    "    Dense(256, activation='relu'),\n",
    "    Dropout(0.5),\n",
    "    Dense(1, activation='sigmoid')\n",
    "])"
   ],
   "id": "26e811fced2eb678",
   "outputs": [],
   "execution_count": 10
  },
  {
   "metadata": {},
   "cell_type": "markdown",
   "source": "# Compiling",
   "id": "873547a3d6606677"
  },
  {
   "metadata": {
    "ExecuteTime": {
     "end_time": "2024-08-04T11:07:45.156699Z",
     "start_time": "2024-08-04T11:07:45.117608Z"
    }
   },
   "cell_type": "code",
   "source": "model.compile(optimizer='adam', loss='binary_crossentropy', metrics=['accuracy'])",
   "id": "8256d2e2f970db93",
   "outputs": [],
   "execution_count": 11
  },
  {
   "metadata": {},
   "cell_type": "markdown",
   "source": "# Train CNN model",
   "id": "5a4d7a18be7b7f0a"
  },
  {
   "metadata": {
    "ExecuteTime": {
     "end_time": "2024-08-04T11:08:31.321320Z",
     "start_time": "2024-08-04T11:08:10.163494Z"
    }
   },
   "cell_type": "code",
   "source": "model.fit(X_cnn, y_cnn, epochs=50, batch_size=32, validation_split=0.2)",
   "id": "70ac2055fcd15a84",
   "outputs": [
    {
     "name": "stdout",
     "output_type": "stream",
     "text": [
      "Epoch 1/50\n",
      "25/25 [==============================] - 3s 39ms/step - loss: 0.4252 - accuracy: 0.9350 - val_loss: 0.4319 - val_accuracy: 0.9000\n",
      "Epoch 2/50\n",
      "25/25 [==============================] - 0s 15ms/step - loss: 0.2552 - accuracy: 0.9425 - val_loss: 0.2398 - val_accuracy: 0.9200\n",
      "Epoch 3/50\n",
      "25/25 [==============================] - 1s 32ms/step - loss: 0.1590 - accuracy: 0.9525 - val_loss: 0.1715 - val_accuracy: 0.9450\n",
      "Epoch 4/50\n",
      "25/25 [==============================] - 0s 14ms/step - loss: 0.1154 - accuracy: 0.9613 - val_loss: 0.1394 - val_accuracy: 0.9450\n",
      "Epoch 5/50\n",
      "25/25 [==============================] - 0s 11ms/step - loss: 0.0978 - accuracy: 0.9663 - val_loss: 0.1168 - val_accuracy: 0.9600\n",
      "Epoch 6/50\n",
      "25/25 [==============================] - 0s 13ms/step - loss: 0.0855 - accuracy: 0.9725 - val_loss: 0.1052 - val_accuracy: 0.9600\n",
      "Epoch 7/50\n",
      "25/25 [==============================] - 0s 12ms/step - loss: 0.0749 - accuracy: 0.9762 - val_loss: 0.1009 - val_accuracy: 0.9600\n",
      "Epoch 8/50\n",
      "25/25 [==============================] - 0s 15ms/step - loss: 0.0731 - accuracy: 0.9775 - val_loss: 0.0941 - val_accuracy: 0.9600\n",
      "Epoch 9/50\n",
      "25/25 [==============================] - 0s 16ms/step - loss: 0.0603 - accuracy: 0.9775 - val_loss: 0.0865 - val_accuracy: 0.9600\n",
      "Epoch 10/50\n",
      "25/25 [==============================] - 1s 22ms/step - loss: 0.0621 - accuracy: 0.9812 - val_loss: 0.0852 - val_accuracy: 0.9600\n",
      "Epoch 11/50\n",
      "25/25 [==============================] - 0s 16ms/step - loss: 0.0550 - accuracy: 0.9837 - val_loss: 0.0819 - val_accuracy: 0.9650\n",
      "Epoch 12/50\n",
      "25/25 [==============================] - 0s 11ms/step - loss: 0.0523 - accuracy: 0.9837 - val_loss: 0.0822 - val_accuracy: 0.9650\n",
      "Epoch 13/50\n",
      "25/25 [==============================] - 0s 14ms/step - loss: 0.0506 - accuracy: 0.9812 - val_loss: 0.0823 - val_accuracy: 0.9600\n",
      "Epoch 14/50\n",
      "25/25 [==============================] - 0s 12ms/step - loss: 0.0468 - accuracy: 0.9850 - val_loss: 0.0831 - val_accuracy: 0.9700\n",
      "Epoch 15/50\n",
      "25/25 [==============================] - 0s 15ms/step - loss: 0.0476 - accuracy: 0.9862 - val_loss: 0.0840 - val_accuracy: 0.9700\n",
      "Epoch 16/50\n",
      "25/25 [==============================] - 0s 10ms/step - loss: 0.0399 - accuracy: 0.9875 - val_loss: 0.0874 - val_accuracy: 0.9650\n",
      "Epoch 17/50\n",
      "25/25 [==============================] - 0s 16ms/step - loss: 0.0456 - accuracy: 0.9862 - val_loss: 0.0790 - val_accuracy: 0.9800\n",
      "Epoch 18/50\n",
      "25/25 [==============================] - 0s 15ms/step - loss: 0.0380 - accuracy: 0.9900 - val_loss: 0.0914 - val_accuracy: 0.9650\n",
      "Epoch 19/50\n",
      "25/25 [==============================] - 0s 10ms/step - loss: 0.0383 - accuracy: 0.9875 - val_loss: 0.0898 - val_accuracy: 0.9650\n",
      "Epoch 20/50\n",
      "25/25 [==============================] - 0s 10ms/step - loss: 0.0388 - accuracy: 0.9875 - val_loss: 0.0934 - val_accuracy: 0.9700\n",
      "Epoch 21/50\n",
      "25/25 [==============================] - 0s 18ms/step - loss: 0.0414 - accuracy: 0.9862 - val_loss: 0.0914 - val_accuracy: 0.9700\n",
      "Epoch 22/50\n",
      "25/25 [==============================] - 0s 10ms/step - loss: 0.0335 - accuracy: 0.9900 - val_loss: 0.0985 - val_accuracy: 0.9600\n",
      "Epoch 23/50\n",
      "25/25 [==============================] - 0s 10ms/step - loss: 0.0380 - accuracy: 0.9887 - val_loss: 0.0953 - val_accuracy: 0.9700\n",
      "Epoch 24/50\n",
      "25/25 [==============================] - 0s 9ms/step - loss: 0.0335 - accuracy: 0.9900 - val_loss: 0.1058 - val_accuracy: 0.9600\n",
      "Epoch 25/50\n",
      "25/25 [==============================] - 0s 12ms/step - loss: 0.0351 - accuracy: 0.9862 - val_loss: 0.1097 - val_accuracy: 0.9600\n",
      "Epoch 26/50\n",
      "25/25 [==============================] - 0s 16ms/step - loss: 0.0304 - accuracy: 0.9900 - val_loss: 0.1131 - val_accuracy: 0.9600\n",
      "Epoch 27/50\n",
      "25/25 [==============================] - 0s 10ms/step - loss: 0.0350 - accuracy: 0.9925 - val_loss: 0.1086 - val_accuracy: 0.9600\n",
      "Epoch 28/50\n",
      "25/25 [==============================] - 0s 11ms/step - loss: 0.0329 - accuracy: 0.9875 - val_loss: 0.1054 - val_accuracy: 0.9650\n",
      "Epoch 29/50\n",
      "25/25 [==============================] - 0s 10ms/step - loss: 0.0317 - accuracy: 0.9925 - val_loss: 0.1215 - val_accuracy: 0.9600\n",
      "Epoch 30/50\n",
      "25/25 [==============================] - 0s 16ms/step - loss: 0.0297 - accuracy: 0.9925 - val_loss: 0.1076 - val_accuracy: 0.9600\n",
      "Epoch 31/50\n",
      "25/25 [==============================] - 1s 21ms/step - loss: 0.0261 - accuracy: 0.9937 - val_loss: 0.1267 - val_accuracy: 0.9600\n",
      "Epoch 32/50\n",
      "25/25 [==============================] - 0s 14ms/step - loss: 0.0288 - accuracy: 0.9912 - val_loss: 0.1134 - val_accuracy: 0.9600\n",
      "Epoch 33/50\n",
      "25/25 [==============================] - 0s 11ms/step - loss: 0.0314 - accuracy: 0.9925 - val_loss: 0.1187 - val_accuracy: 0.9600\n",
      "Epoch 34/50\n",
      "25/25 [==============================] - 1s 20ms/step - loss: 0.0269 - accuracy: 0.9925 - val_loss: 0.1248 - val_accuracy: 0.9600\n",
      "Epoch 35/50\n",
      "25/25 [==============================] - 1s 21ms/step - loss: 0.0256 - accuracy: 0.9900 - val_loss: 0.1254 - val_accuracy: 0.9600\n",
      "Epoch 36/50\n",
      "25/25 [==============================] - 0s 11ms/step - loss: 0.0241 - accuracy: 0.9937 - val_loss: 0.1368 - val_accuracy: 0.9600\n",
      "Epoch 37/50\n",
      "25/25 [==============================] - 0s 12ms/step - loss: 0.0252 - accuracy: 0.9925 - val_loss: 0.1156 - val_accuracy: 0.9700\n",
      "Epoch 38/50\n",
      "25/25 [==============================] - 0s 10ms/step - loss: 0.0200 - accuracy: 0.9950 - val_loss: 0.1136 - val_accuracy: 0.9650\n",
      "Epoch 39/50\n",
      "25/25 [==============================] - 0s 14ms/step - loss: 0.0224 - accuracy: 0.9950 - val_loss: 0.1255 - val_accuracy: 0.9600\n",
      "Epoch 40/50\n",
      "25/25 [==============================] - 0s 14ms/step - loss: 0.0184 - accuracy: 0.9937 - val_loss: 0.1395 - val_accuracy: 0.9600\n",
      "Epoch 41/50\n",
      "25/25 [==============================] - 0s 9ms/step - loss: 0.0166 - accuracy: 0.9950 - val_loss: 0.1297 - val_accuracy: 0.9600\n",
      "Epoch 42/50\n",
      "25/25 [==============================] - 0s 17ms/step - loss: 0.0226 - accuracy: 0.9950 - val_loss: 0.1392 - val_accuracy: 0.9600\n",
      "Epoch 43/50\n",
      "25/25 [==============================] - 1s 19ms/step - loss: 0.0244 - accuracy: 0.9950 - val_loss: 0.1449 - val_accuracy: 0.9600\n",
      "Epoch 44/50\n",
      "25/25 [==============================] - 0s 10ms/step - loss: 0.0172 - accuracy: 0.9950 - val_loss: 0.1646 - val_accuracy: 0.9600\n",
      "Epoch 45/50\n",
      "25/25 [==============================] - 0s 12ms/step - loss: 0.0221 - accuracy: 0.9937 - val_loss: 0.1595 - val_accuracy: 0.9450\n",
      "Epoch 46/50\n",
      "25/25 [==============================] - 0s 10ms/step - loss: 0.0175 - accuracy: 0.9962 - val_loss: 0.1575 - val_accuracy: 0.9600\n",
      "Epoch 47/50\n",
      "25/25 [==============================] - 0s 10ms/step - loss: 0.0189 - accuracy: 0.9937 - val_loss: 0.1699 - val_accuracy: 0.9500\n",
      "Epoch 48/50\n",
      "25/25 [==============================] - 1s 23ms/step - loss: 0.0185 - accuracy: 0.9950 - val_loss: 0.1810 - val_accuracy: 0.9450\n",
      "Epoch 49/50\n",
      "25/25 [==============================] - 0s 15ms/step - loss: 0.0185 - accuracy: 0.9950 - val_loss: 0.1958 - val_accuracy: 0.9450\n",
      "Epoch 50/50\n",
      "25/25 [==============================] - 0s 12ms/step - loss: 0.0141 - accuracy: 0.9937 - val_loss: 0.1681 - val_accuracy: 0.9450\n"
     ]
    },
    {
     "data": {
      "text/plain": [
       "<keras.callbacks.History at 0x248d2044f10>"
      ]
     },
     "execution_count": 12,
     "metadata": {},
     "output_type": "execute_result"
    }
   ],
   "execution_count": 12
  },
  {
   "metadata": {},
   "cell_type": "markdown",
   "source": "# Evaluate the model",
   "id": "b318cfac9bd2d54c"
  },
  {
   "metadata": {
    "ExecuteTime": {
     "end_time": "2024-08-04T11:09:10.276567Z",
     "start_time": "2024-08-04T11:09:10.033062Z"
    }
   },
   "cell_type": "code",
   "source": [
    "loss, accuracy = model.evaluate(X_cnn, y_cnn)\n",
    "print(f\"Accuracy: {accuracy}\")"
   ],
   "id": "1da9d81518bb9cc",
   "outputs": [
    {
     "name": "stdout",
     "output_type": "stream",
     "text": [
      "32/32 [==============================] - 0s 3ms/step - loss: 0.0442 - accuracy: 0.9850\n",
      "Accuracy: 0.9850000143051147\n"
     ]
    }
   ],
   "execution_count": 13
  }
 ],
 "metadata": {
  "kernelspec": {
   "display_name": "Python 3",
   "language": "python",
   "name": "python3"
  },
  "language_info": {
   "codemirror_mode": {
    "name": "ipython",
    "version": 2
   },
   "file_extension": ".py",
   "mimetype": "text/x-python",
   "name": "python",
   "nbconvert_exporter": "python",
   "pygments_lexer": "ipython2",
   "version": "2.7.6"
  }
 },
 "nbformat": 4,
 "nbformat_minor": 5
}
